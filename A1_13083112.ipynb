{
  "nbformat": 4,
  "nbformat_minor": 0,
  "metadata": {
    "colab": {
      "name": "Assignment1.ipynb",
      "version": "0.3.2",
      "provenance": [],
      "collapsed_sections": [],
      "include_colab_link": true
    },
    "kernelspec": {
      "name": "python3",
      "display_name": "Python 3"
    }
  },
  "cells": [
    {
      "cell_type": "markdown",
      "metadata": {
        "id": "view-in-github",
        "colab_type": "text"
      },
      "source": [
        "<a href=\"https://colab.research.google.com/github/baojian123/UTS_ML_ID13083112/blob/master/A1_13083112.ipynb\" target=\"_parent\"><img src=\"https://colab.research.google.com/assets/colab-badge.svg\" alt=\"Open In Colab\"/></a>"
      ]
    },
    {
      "cell_type": "markdown",
      "metadata": {
        "id": "pHHSE6U2f0u-",
        "colab_type": "text"
      },
      "source": [
        "# Structure\n",
        "---\n",
        "## Content:300\n",
        "## Innovation:300\n",
        "## Technical Quality:200\n",
        "## Application and X-Factor:200\n",
        "## Presentation:100\n"
      ]
    },
    {
      "cell_type": "markdown",
      "metadata": {
        "id": "m41TVETEgSDk",
        "colab_type": "text"
      },
      "source": [
        ""
      ]
    },
    {
      "cell_type": "markdown",
      "metadata": {
        "id": "hOaFPyqXb9pG",
        "colab_type": "text"
      },
      "source": [
        "# Understanding\n",
        "## why we need bayesian network\n",
        "---\n",
        "## probability\n",
        "---\n",
        "### indifferent\n",
        "### relative frequency\n",
        "### subjective probability\n",
        "### independent\n",
        "### conditionally independent\n",
        "### d-separate and conditionally independent"
      ]
    }
  ]
}